{
  "nbformat": 4,
  "nbformat_minor": 0,
  "metadata": {
    "colab": {
      "name": "agendamento_chatbots.ipynb",
      "provenance": [],
      "collapsed_sections": []
    },
    "kernelspec": {
      "name": "python3",
      "display_name": "Python 3"
    },
    "language_info": {
      "name": "python"
    }
  },
  "cells": [
    {
      "cell_type": "markdown",
      "metadata": {
        "id": "8GA9sxN_mL7f"
      },
      "source": [
        "Instituição: FURB <br>\n",
        "Curso: Data Science <br>\n",
        "Disciplina: Chatbots <br>\n",
        "Alunos: Charles Bambineti, Diego Leonardo Urban\n",
        "\n",
        "# Trabalho Final - Análise das conversas do Chatbot de Agendamento"
      ]
    },
    {
      "cell_type": "markdown",
      "metadata": {
        "id": "RckMq-ePrN33"
      },
      "source": [
        "Levantamento de métricas das conversas do Bot de agendamento para Hospital Clínica.\n",
        "\n",
        "O código abaixo contempla a utilização da api de comunicação do watson para extrair informações do assistente. Por meio do pandas e numpy são analisadas métricas das conversas com o Bot.\n",
        "\n",
        "Link do código-fonte: https://github.com/diegourban/chatbot_agendamento"
      ]
    },
    {
      "cell_type": "code",
      "metadata": {
        "colab": {
          "base_uri": "https://localhost:8080/"
        },
        "id": "KIlm1IulU0wO",
        "outputId": "3df3eec0-25de-4fd1-e381-cbd8a7b6b852"
      },
      "source": [
        "# Instalando dependências\n",
        "!pip install \"ibm-watson\""
      ],
      "execution_count": 1,
      "outputs": [
        {
          "output_type": "stream",
          "text": [
            "Collecting ibm-watson\n",
            "\u001b[?25l  Downloading https://files.pythonhosted.org/packages/9b/88/395d7d52df29f321ae1150cf9b5a71cef8611570230502597c427bc1e9d9/ibm-watson-5.1.0.tar.gz (382kB)\n",
            "\u001b[K     |████████████████████████████████| 389kB 4.0MB/s \n",
            "\u001b[?25hRequirement already satisfied: requests<3.0,>=2.0 in /usr/local/lib/python3.7/dist-packages (from ibm-watson) (2.23.0)\n",
            "Requirement already satisfied: python_dateutil>=2.5.3 in /usr/local/lib/python3.7/dist-packages (from ibm-watson) (2.8.1)\n",
            "Collecting websocket-client==0.48.0\n",
            "\u001b[?25l  Downloading https://files.pythonhosted.org/packages/8a/a1/72ef9aa26cfe1a75cee09fc1957e4723add9de098c15719416a1ee89386b/websocket_client-0.48.0-py2.py3-none-any.whl (198kB)\n",
            "\u001b[K     |████████████████████████████████| 204kB 19.8MB/s \n",
            "\u001b[?25hCollecting ibm_cloud_sdk_core>=3.3.6\n",
            "  Downloading https://files.pythonhosted.org/packages/99/55/ece4d000ca41c052c7331a0d14150e9c9c15e4f65943036cfff3bcd14cc7/ibm-cloud-sdk-core-3.10.0.tar.gz\n",
            "Requirement already satisfied: idna<3,>=2.5 in /usr/local/lib/python3.7/dist-packages (from requests<3.0,>=2.0->ibm-watson) (2.10)\n",
            "Requirement already satisfied: certifi>=2017.4.17 in /usr/local/lib/python3.7/dist-packages (from requests<3.0,>=2.0->ibm-watson) (2020.12.5)\n",
            "Requirement already satisfied: chardet<4,>=3.0.2 in /usr/local/lib/python3.7/dist-packages (from requests<3.0,>=2.0->ibm-watson) (3.0.4)\n",
            "Requirement already satisfied: urllib3!=1.25.0,!=1.25.1,<1.26,>=1.21.1 in /usr/local/lib/python3.7/dist-packages (from requests<3.0,>=2.0->ibm-watson) (1.24.3)\n",
            "Requirement already satisfied: six>=1.5 in /usr/local/lib/python3.7/dist-packages (from python_dateutil>=2.5.3->ibm-watson) (1.15.0)\n",
            "Collecting PyJWT<3.0.0,>=2.0.1\n",
            "  Downloading https://files.pythonhosted.org/packages/3f/32/d5d3cab27fee7f6b22d7cd7507547ae45d52e26030fa77d1f83d0526c6e5/PyJWT-2.1.0-py3-none-any.whl\n",
            "Building wheels for collected packages: ibm-watson, ibm-cloud-sdk-core\n",
            "  Building wheel for ibm-watson (setup.py) ... \u001b[?25l\u001b[?25hdone\n",
            "  Created wheel for ibm-watson: filename=ibm_watson-5.1.0-cp37-none-any.whl size=375439 sha256=a927ec502c73fbce5c159496b6057a2c91872fb379da70b8251f8d02f402d4dc\n",
            "  Stored in directory: /root/.cache/pip/wheels/49/6d/cf/1d91261b96363da78bf9b02699fd2262e6b5dad179500690c1\n",
            "  Building wheel for ibm-cloud-sdk-core (setup.py) ... \u001b[?25l\u001b[?25hdone\n",
            "  Created wheel for ibm-cloud-sdk-core: filename=ibm_cloud_sdk_core-3.10.0-cp37-none-any.whl size=60912 sha256=299e65639738633cfb0e07942d04b37efc54a4874d57202dbe372396de89b4d4\n",
            "  Stored in directory: /root/.cache/pip/wheels/4a/4e/48/b02ad6dc75235fc4c0742d4e99571fe7d729e60bf365105be4\n",
            "Successfully built ibm-watson ibm-cloud-sdk-core\n",
            "Installing collected packages: websocket-client, PyJWT, ibm-cloud-sdk-core, ibm-watson\n",
            "Successfully installed PyJWT-2.1.0 ibm-cloud-sdk-core-3.10.0 ibm-watson-5.1.0 websocket-client-0.48.0\n"
          ],
          "name": "stdout"
        }
      ]
    },
    {
      "cell_type": "code",
      "metadata": {
        "id": "ZwHRMYA3_ihq"
      },
      "source": [
        "# Importando dependências\n",
        "import re\n",
        "from datetime import time\n",
        "\n",
        "import json\n",
        "import numpy as np\n",
        "import pandas as pd\n",
        "\n",
        "import ibm_watson\n",
        "\n",
        "from ibm_watson import AssistantV1\n",
        "from ibm_cloud_sdk_core.authenticators import IAMAuthenticator"
      ],
      "execution_count": 2,
      "outputs": []
    },
    {
      "cell_type": "code",
      "metadata": {
        "id": "k2rFBX5GI5mY"
      },
      "source": [
        "# Credenciais de acesso\n",
        "# https://cloud.ibm.com/apidocs/assistant/assistant-v1?code=python#finding-credentials-in-the-ui\n",
        "# Skills > View API Details\n",
        "# wa_workspace_id = Skill ID\n",
        "# wa_service_api_key = API key\n",
        "\n",
        "#workspace Diego\n",
        "#wa_workspace_id = <skill id>\n",
        "#wa_service_api_key = <api key>\n",
        "\n",
        "#workspace Charles\n",
        "wa_workspace_id = <skill id>\n",
        "wa_service_api_key = <api key>\n",
        "\n",
        "# URL que corresponde a localização da instância\n",
        "# https://cloud.ibm.com/apidocs/assistant/assistant-v1?code=python#service-endpoint\n",
        "wa_instance_url = \"https://api.us-south.assistant.watson.cloud.ibm.com\"\n",
        "\n",
        "# Autenticando da API usando Access Management (IAM)\n",
        "authenticator = IAMAuthenticator(wa_service_api_key)\n",
        "assistant = AssistantV1(\n",
        "    version='2020-04-01', # Versionamento: https://cloud.ibm.com/apidocs/assistant/assistant-v1?code=python#versioning\n",
        "    authenticator=authenticator\n",
        ")\n",
        "assistant.set_service_url(wa_instance_url)"
      ],
      "execution_count": 3,
      "outputs": []
    },
    {
      "cell_type": "code",
      "metadata": {
        "id": "D6ln-kqoLQgL"
      },
      "source": [
        "def dump_conversations_log(wid):\n",
        "  response = assistant.list_logs(\n",
        "    workspace_id = wid, page_limit = 100\n",
        "  ).get_result()\n",
        "\n",
        "  list_mount_examples = []\n",
        "  list_mount_intents = []\n",
        "  list_mount_confidence = []\n",
        "  list_mount_interaction_time = []\n",
        "\n",
        "  cursor_regex = r\".*?cursor=(.*?)&\"\n",
        "\n",
        "  logs = response['logs']\n",
        "  page = response['pagination']\n",
        "\n",
        "  total = 0\n",
        "  while response:\n",
        "      cont = 0\n",
        "\n",
        "      for log in logs:\n",
        "          cont += 1\n",
        "          total += 1\n",
        "          if log[\"response\"]:\n",
        "              lresponse = log['response']\n",
        "              \n",
        "              if 'input' in lresponse and 'text' in lresponse['input']:\n",
        "                  if 'intents' in lresponse and lresponse['intents']:\n",
        "                      list_mount_examples.append(lresponse['input']['text'].strip())\n",
        "                      list_mount_intents.append(lresponse['intents'][0]['intent'])\n",
        "                      list_mount_confidence.append(lresponse['intents'][0]['confidence'])\n",
        "                      list_mount_interaction_time.append(log['response_timestamp'])\n",
        "                  else:\n",
        "                      list_mount_examples.append(lresponse['input']['text'].strip())\n",
        "                      list_mount_intents.append('irrelevant')\n",
        "                      list_mount_confidence.append('0')\n",
        "                      list_mount_interaction_time.append(log['response_timestamp'])\n",
        "      \n",
        "      if not page:\n",
        "          break\n",
        "\n",
        "      cursor_res = re.search(cursor_regex, page['next_url'], re.IGNORECASE)\n",
        "      cursor = None\n",
        "\n",
        "      if cursor_res:\n",
        "          cursor = cursor_res.group(1)\n",
        "      if not cursor:\n",
        "          break\n",
        "    \n",
        "      response = assistant.list_logs(workspace_id=wid, page_limit=100, cursor=cursor).get_result()\n",
        "      \n",
        "      logs = response['logs']\n",
        "      page = response['pagination']\n",
        "\n",
        "  df_temp = pd.DataFrame({\n",
        "      'Example': list_mount_examples,\n",
        "      'Intent': list_mount_intents,\n",
        "      'Confidence': list_mount_confidence,\n",
        "      'Interaction_Time': list_mount_interaction_time,\n",
        "  }, columns=['Example','Intent','Confidence','Interaction_Time'])\n",
        "\n",
        "  return df_temp"
      ],
      "execution_count": 4,
      "outputs": []
    },
    {
      "cell_type": "code",
      "metadata": {
        "id": "mt-IMAQtLhLO"
      },
      "source": [
        "logs = dump_conversations_log(wa_workspace_id)"
      ],
      "execution_count": 5,
      "outputs": []
    },
    {
      "cell_type": "code",
      "metadata": {
        "colab": {
          "base_uri": "https://localhost:8080/"
        },
        "id": "IWWBg8TXNSSY",
        "outputId": "bc31e2c4-f4f3-4244-d109-02a37f0f53dd"
      },
      "source": [
        "print('Quantidade de interações realizadas: {0}'.format(logs.shape[0]))"
      ],
      "execution_count": 6,
      "outputs": [
        {
          "output_type": "stream",
          "text": [
            "Quantidade de interações realizadas: 248\n"
          ],
          "name": "stdout"
        }
      ]
    },
    {
      "cell_type": "markdown",
      "metadata": {
        "id": "oso8ZYcQl1ZA"
      },
      "source": [
        "## Métrica 1 - Intenções mais questionadas"
      ]
    },
    {
      "cell_type": "code",
      "metadata": {
        "id": "infZmwRfOsLR"
      },
      "source": [
        "dist_logs = pd.DataFrame(columns=['intent', 'sizes'])\n",
        "\n",
        "intent_blacklist = ['afirmativo','negativo', 'irrelevant']\n",
        "\n",
        "for idx,log in logs.iterrows():\n",
        "    if log['Intent'] not in intent_blacklist:\n",
        "        dist_logs.loc[idx] = pd.Series({'intent': log['Intent'], 'sizes': 1})"
      ],
      "execution_count": 7,
      "outputs": []
    },
    {
      "cell_type": "code",
      "metadata": {
        "colab": {
          "base_uri": "https://localhost:8080/",
          "height": 456
        },
        "id": "BVQb85QxO-8G",
        "outputId": "9dd04586-f0c7-49c0-d705-fd67afb5b6c8"
      },
      "source": [
        "grouped_count = dist_logs.groupby('intent').count()\n",
        "\n",
        "grouped = grouped_count.dropna().sort_values(by='sizes')\n",
        "\n",
        "grouped.index.name='intent'\n",
        "grouped['intent']=grouped.index\n",
        "\n",
        "grouped.plot(kind='bar',x='intent', xlabel='Intenção', y='sizes', ylabel='Quantidade', figsize=(20,5),title='Intenções mais questionadas');"
      ],
      "execution_count": 8,
      "outputs": [
        {
          "output_type": "display_data",
          "data": {
            "image/png": "[encoded data removed]",
            "text/plain": [
              "<Figure size 1440x360 with 1 Axes>"
            ]
          },
          "metadata": {
            "tags": [],
            "needs_background": "light"
          }
        }
      ]
    },
    {
      "cell_type": "markdown",
      "metadata": {
        "id": "YnJufV8pl-WT"
      },
      "source": [
        "## Métrica 2 - Hora do dia de maior interação com o Bot"
      ]
    },
    {
      "cell_type": "code",
      "metadata": {
        "id": "yqm3A9K8kiIi"
      },
      "source": [
        "logs['Hora'] = logs['Interaction_Time'].apply(lambda x: pd.Timestamp(x, tz='America/Sao_Paulo').hour)\n",
        "dist_logs = pd.DataFrame(columns=['hora', 'sizes'])\n",
        "\n",
        "for idx,log in logs.iterrows():\n",
        "  dist_logs.loc[idx] = pd.Series({'hora': log['Hora'], 'sizes': 1})"
      ],
      "execution_count": 9,
      "outputs": []
    },
    {
      "cell_type": "code",
      "metadata": {
        "colab": {
          "base_uri": "https://localhost:8080/",
          "height": 352
        },
        "id": "k-bveTcng4eL",
        "outputId": "510f1fc9-1553-48ac-86e6-0b985f026233"
      },
      "source": [
        "grouped_count = dist_logs.groupby('hora').count()\n",
        "grouped = grouped_count.dropna().sort_values(by='hora')\n",
        "grouped.index.name='hora'\n",
        "grouped['hora']=grouped.index\n",
        "grouped.plot(kind='bar',x='hora', xlabel='Hora', y='sizes', ylabel='Quantidade', figsize=(20,5),title='Hora do dia de maior interação com o Bot');"
      ],
      "execution_count": 10,
      "outputs": [
        {
          "output_type": "display_data",
          "data": {
            "image/png": "[encoded data removed]",
            "text/plain": [
              "<Figure size 1440x360 with 1 Axes>"
            ]
          },
          "metadata": {
            "tags": [],
            "needs_background": "light"
          }
        }
      ]
    },
    {
      "cell_type": "markdown",
      "metadata": {
        "id": "e_KdkaA-pUXT"
      },
      "source": [
        "## Métrica 3 - Confiança média por intenção"
      ]
    },
    {
      "cell_type": "code",
      "metadata": {
        "colab": {
          "base_uri": "https://localhost:8080/",
          "height": 510
        },
        "id": "S5k3hNu6pY-R",
        "outputId": "74df4e6c-b8ec-4d72-f69b-dcc25e6986c4"
      },
      "source": [
        "dist_logs = pd.DataFrame(columns=['intent', 'sizes','confidencesum'])\n",
        "\n",
        "for idx,log in logs.iterrows():\n",
        "  if log['Intent'] not in intent_blacklist:\n",
        "    dist_logs.loc[idx] = pd.Series({'intent': log['Intent'], 'sizes': 1,'confidencesum': float(log['Confidence'])})\n",
        "\n",
        "grouped_mean = dist_logs.groupby('intent').mean()\n",
        "grouped_count = dist_logs.groupby('intent').count()\n",
        "    \n",
        "grouped_sorted = grouped_count.dropna().sort_values(by='sizes')\n",
        "\n",
        "grouped_sorted.index.name='intent'\n",
        "grouped_sorted['intent']=grouped_sorted.index\n",
        "\n",
        "df_intersection = pd.merge(grouped_sorted, grouped_mean, left_index=True, right_index=True)\n",
        "df_intersection.drop('confidencesum_x', axis=1, inplace=True)\n",
        "df_intersection.sort_values(by='confidencesum_y').plot(kind='bar',x='intent',xlabel='Intenção', y='confidencesum_y', ylabel='Confiança (média)', figsize=(20,6),title='Confiança média por intenção');"
      ],
      "execution_count": 11,
      "outputs": [
        {
          "output_type": "display_data",
          "data": {
            "image/png": "[encoded data removed]",
            "text/plain": [
              "<Figure size 1440x432 with 1 Axes>"
            ]
          },
          "metadata": {
            "tags": [],
            "needs_background": "light"
          }
        }
      ]
    }
  ]
}